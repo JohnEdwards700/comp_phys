{
 "cells": [
  {
   "cell_type": "markdown",
   "id": "c41662e8",
   "metadata": {},
   "source": [
    "# Computational Physics Assignment 3"
   ]
  },
  {
   "cell_type": "markdown",
   "id": "worse-cocktail",
   "metadata": {},
   "source": [
    "*The first principle is that you must not fool yourself and you are the easiest person to fool.*\n",
    "--Richard P. Feynman\n"
   ]
  },
  {
   "cell_type": "markdown",
   "id": "removable-pepper",
   "metadata": {},
   "source": [
    "1.\tPlot the function   for $v_0 = 20.0$ $m/s$ and $g = 9.81$ $m/s^2$.   Label the x axis as “time (s)’ and the y axis as “position (m)”.   Determine the maximum height reached by the ball. "
   ]
  },
  {
   "cell_type": "markdown",
   "id": "advisory-copyright",
   "metadata": {},
   "source": [
    "2. Plot $y_1$ and $y_2$ and their first derivative on the same graph as functions using the definition of the discrete derivative, where  $y_1 = \\cos(x) - \\exp(-x)$ and $y_2 = -x^2$ and $-2 \\leq x \\leq 2$.  Use a legend to distinguish the four curves and label your axes."
   ]
  },
  {
   "cell_type": "markdown",
   "id": "2daa7c9a",
   "metadata": {},
   "source": [
    "3. Find the linear regression for CSIRO (Commonwealth Scientific and Industrial Research Organisation) data on sea level rise around the world.  Download the data file CSIRO_Recons_gmsl_mo_2011.txt from Brightspace."
   ]
  },
  {
   "cell_type": "markdown",
   "id": "2f848a76",
   "metadata": {},
   "source": [
    "4. Global O¬2¬ concentrations from 2010 to 2020 measured by Scripps can be found under resources as Global_O2_Concentration_2010_2020.txt. (The column Julian Data records dates in days and you might want to use it.) To understand better the changes in life-giving oxygen, (a) Find the Pearson correlation coefficient for the data. (b) Determine the linear regression for the data. (c) Plot the data and the model curve (linear regression). (d) Evaluate the goodness of the fit. (e) What do you note about yearly and decadal changes in O2?\n"
   ]
  },
  {
   "cell_type": "code",
   "execution_count": null,
   "id": "033b8780",
   "metadata": {},
   "outputs": [],
   "source": []
  }
 ],
 "metadata": {
  "kernelspec": {
   "display_name": "Python 3 (ipykernel)",
   "language": "python",
   "name": "python3"
  },
  "language_info": {
   "codemirror_mode": {
    "name": "ipython",
    "version": 3
   },
   "file_extension": ".py",
   "mimetype": "text/x-python",
   "name": "python",
   "nbconvert_exporter": "python",
   "pygments_lexer": "ipython3",
   "version": "3.11.4"
  }
 },
 "nbformat": 4,
 "nbformat_minor": 5
}
