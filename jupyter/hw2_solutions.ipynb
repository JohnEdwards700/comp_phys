{
 "cells": [
  {
   "cell_type": "code",
   "execution_count": null,
   "metadata": {},
   "outputs": [],
   "source": [
    "#  Problem 1\n",
    "def equation(i, c):\n",
    "    return ((4*i + 2)/(i + 2)) * c\n",
    "        \n",
    "        \n",
    "    \n",
    "def CatalanNum():\n",
    "    i = 0\n",
    "    c = 1\n",
    "    while c <= 10**9:\n",
    "        if i == 0:\n",
    "            print(1)\n",
    "        else:\n",
    "            c: int = int(equation(i, c))\n",
    "            print(c)\n",
    "        i +=1\n",
    "    \n",
    "CatalanNum()"
   ]
  },
  {
   "cell_type": "code",
   "execution_count": null,
   "metadata": {},
   "outputs": [],
   "source": [
    "# Problem 2\n",
    "def Collatz(n):\n",
    "    for i in range(20):\n",
    "        if n % 2 == 0:\n",
    "            n = n/2\n",
    "            print(n)\n",
    "        else:\n",
    "            n = n*3 + 1\n",
    "            print(n)\n",
    "Collatz(1)"
   ]
  },
  {
   "cell_type": "code",
   "execution_count": null,
   "metadata": {},
   "outputs": [],
   "source": [
    "# Problem 3\n",
    "def Euclid(m, n):\n",
    "    if n == 0:\n",
    "        return m\n",
    "    else:\n",
    "        return Euclid(n, m % n)"
   ]
  },
  {
   "cell_type": "code",
   "execution_count": null,
   "metadata": {},
   "outputs": [],
   "source": [
    "#Problem 4\n",
    "def temperatures(start, stop):\n",
    "    print(\"This is the starting celsius: \", start, \"\\nThis is the ending Celsius: \", stop)\n",
    "    currTemp = start\n",
    "    for i in range(start, stop + 1):\n",
    "        fahrenheitTemp = (currTemp * 9/5) + 32\n",
    "        currTemp += 1\n",
    "        print(i, \"-->\",fahrenheitTemp)\n",
    "        \n",
    "temperatures(20, 30)"
   ]
  },
  {
   "cell_type": "code",
   "execution_count": null,
   "metadata": {},
   "outputs": [],
   "source": [
    "# Problem 5\n",
    "import numpy as np\n",
    "import matplotlib.pyplot as plt\n",
    "\n",
    "data = np.loadtxt('sunspots.txt', float, skiprows=1, max_rows=1000)\n",
    "\n",
    "monthNum = data[:,0]\n",
    "SunspotNum = data[:,1]\n",
    "def running_average(data, total_month):\n",
    "    averages = []\n",
    "    for i in range(len(data) - total_month + 1):\n",
    "        month = data[i:i + total_month]\n",
    "        month_average = sum(month) / total_month\n",
    "        averages.append(month_average)\n",
    "    \n",
    "    return averages\n",
    "\n",
    "months = 12\n",
    "running_avg = running_average(SunspotNum, months)\n",
    "\n",
    "adjusted_monthNum = monthNum[months-1:]\n",
    "\n",
    "plt.plot(monthNum, SunspotNum, label='Original Data')\n",
    "\n",
    "plt.plot(adjusted_monthNum, running_avg, label='Running Average', color='red')\n",
    "\n",
    "plt.xlabel(\"Time [months]\")\n",
    "plt.ylabel(\"Sunspots Number\")\n",
    "plt.legend()\n",
    "\n",
    "plt.savefig(\"sunspots_with_running_avg.png\")\n",
    "plt.show()"
   ]
  }
 ],
 "metadata": {
  "language_info": {
   "name": "python"
  }
 },
 "nbformat": 4,
 "nbformat_minor": 2
}
