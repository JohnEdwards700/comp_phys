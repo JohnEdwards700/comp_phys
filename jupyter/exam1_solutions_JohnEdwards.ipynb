{
 "cells": [
  {
   "cell_type": "markdown",
   "metadata": {},
   "source": [
    "# John Edwards Comp Phys Exam 1"
   ]
  },
  {
   "cell_type": "markdown",
   "metadata": {},
   "source": [
    "### Problem 1.1\n",
    "#### Answer: D. Nothing Displayed"
   ]
  },
  {
   "cell_type": "code",
   "execution_count": 3,
   "metadata": {},
   "outputs": [],
   "source": [
    "x = 1\n",
    "y = -1\n",
    "z = 1\n",
    "\n",
    "if x > 0:\n",
    "    if y > 0:\n",
    "        print(\"x > 0 and y > 0\")\n",
    "elif z > 0:\n",
    "    print(\"x < 0 and z > 0\")\n"
   ]
  },
  {
   "cell_type": "markdown",
   "metadata": {},
   "source": [
    "### Problem 1.2\n",
    "#### Answer: B. {x < 5 or y < 5}"
   ]
  },
  {
   "cell_type": "code",
   "execution_count": 4,
   "metadata": {},
   "outputs": [
    {
     "name": "stdout",
     "output_type": "stream",
     "text": [
      "True\n"
     ]
    }
   ],
   "source": [
    "x = 4\n",
    "y = 5\n",
    "if x < 5 or y < 5:\n",
    "    print(True)"
   ]
  },
  {
   "cell_type": "markdown",
   "metadata": {},
   "source": [
    "### Problem 1.3\n",
    "#### Answer: A. None [3, 4, 5]."
   ]
  },
  {
   "cell_type": "code",
   "execution_count": 5,
   "metadata": {},
   "outputs": [
    {
     "name": "stdout",
     "output_type": "stream",
     "text": [
      "None\n",
      "[3, 4, 5]\n"
     ]
    }
   ],
   "source": [
    "def increments(L, increment):\n",
    "    i = 0\n",
    "    while i < len(L):\n",
    "        L[i] = L[i] + increment\n",
    "        i = i + 1\n",
    "        \n",
    "values = [1,2,3]\n",
    "print(increments(values, 2))\n",
    "print(values)"
   ]
  },
  {
   "cell_type": "markdown",
   "metadata": {},
   "source": [
    "### Problem 1.4\n",
    "#### Answer: D. 20"
   ]
  },
  {
   "cell_type": "code",
   "execution_count": 8,
   "metadata": {},
   "outputs": [
    {
     "name": "stdout",
     "output_type": "stream",
     "text": [
      "20\n"
     ]
    }
   ],
   "source": [
    "y = 0 \n",
    "for i in range(0,10,2):\n",
    "    y += i\n",
    "print(y)"
   ]
  },
  {
   "cell_type": "markdown",
   "metadata": {},
   "source": [
    "### Problem 1.5\n",
    "#### Answer: Pattern C"
   ]
  },
  {
   "cell_type": "code",
   "execution_count": 9,
   "metadata": {},
   "outputs": [
    {
     "name": "stdout",
     "output_type": "stream",
     "text": [
      "          1 \n",
      "        2 1 \n",
      "      3 2 1 \n",
      "    4 3 2 1 \n",
      "  5 4 3 2 1 \n",
      "6 5 4 3 2 1 \n"
     ]
    }
   ],
   "source": [
    "for i in range(1, 6+1):\n",
    "    for j in range(6, 0, -1):\n",
    "        print(j if j <=i else\" \", end=\" \")\n",
    "    print()"
   ]
  },
  {
   "cell_type": "markdown",
   "metadata": {},
   "source": [
    "### Problem 2\n",
    "#### Answer: It is very close to the value of Pi and it is fast"
   ]
  },
  {
   "cell_type": "code",
   "execution_count": 1,
   "metadata": {},
   "outputs": [
    {
     "name": "stdout",
     "output_type": "stream",
     "text": [
      "Calculated Value of Pi: 3.1415927300133055\n",
      "Numpy Calculation of Pi: 3.141592653589793\n",
      "Calculated Value of Pi: 3.1415927300133055\n",
      "Numpy Calculation of Pi: 3.141592653589793\n"
     ]
    }
   ],
   "source": [
    "import numpy as np\n",
    "import math\n",
    "def convergingS(n):\n",
    "    x = 0\n",
    "    for i in range(n):\n",
    "        x += (math.factorial(4*i) * (1103+26390*i))/(math.factorial(i)**4 *(396**(4*i)))\n",
    "    x = (2*np.sqrt(2))/9801 * x\n",
    "    return np.float64(1 / x)\n",
    "\n",
    "print(f'Calculated Value of Pi: {convergingS(1)}')\n",
    "print(f'Numpy Calculation of Pi: {np.float64(np.pi)}')\n",
    "\n",
    "print(f'Calculated Value of Pi: {convergingS(1)}')\n",
    "print(f'Numpy Calculation of Pi: {np.float64(np.pi)}')"
   ]
  },
  {
   "cell_type": "markdown",
   "metadata": {},
   "source": [
    "### Problem 3\n",
    "#### Answer: Sodium Chloride: -1.7475645950377328"
   ]
  },
  {
   "cell_type": "code",
   "execution_count": null,
   "metadata": {},
   "outputs": [],
   "source": [
    "import math\n",
    "def madelung_Constant(L):\n",
    "    m = 0\n",
    "    for i in range(-L, L):\n",
    "        for j in range(-L, L):\n",
    "            for k in range(-L, L):\n",
    "                if (i == 0 and j == 0 and k == 0):\n",
    "                    continue\n",
    "                elif (i+j+k) % 2 == 0:\n",
    "                    m += 1/(math.sqrt(i**2 + j**2 + k**2))\n",
    "                else:\n",
    "                    m -= 1/(math.sqrt(i**2 + j**2 + k**2))\n",
    "    return m\n",
    "                    \n",
    "print(f\"Calculation of Madelung constant for \\nSodium Chloride: {madelung_Constant(100)}\")\n"
   ]
  },
  {
   "cell_type": "markdown",
   "metadata": {},
   "source": [
    "### Problem 4\n",
    "#### Answers: \n",
    "##### a. See the Output\n",
    "##### b. -(a) See Output -(b) Yes, its peaks  \n",
    "##### c. See the output\n",
    "##### d. The graph As the temperature the luminosity also decreases\n"
   ]
  },
  {
   "cell_type": "code",
   "execution_count": 2,
   "metadata": {},
   "outputs": [
    {
     "name": "stdout",
     "output_type": "stream",
     "text": [
      "Answer A: The Magnitude Mean is 5194.793515682544 and Temp mean is 6.480108142493639 \n",
      "The Standard deviation for Magnitude is 1165.0842275142884 and for Temps is 3.026354179841625\n",
      "\n"
     ]
    },
    {
     "data": {
      "image/png": "[encoded data removed]",
      "text/plain": [
       "<Figure size 800x600 with 3 Axes>"
      ]
     },
     "metadata": {},
     "output_type": "display_data"
    }
   ],
   "source": [
    "import matplotlib.pyplot as plt \n",
    "import numpy as np\n",
    "import statistics as st\n",
    "\n",
    "data = np.loadtxt('stars.txt', float, skiprows=1)\n",
    "    \n",
    "    \n",
    "temps = data[:,1]\n",
    "luminosity = data[:,0]\n",
    "\n",
    "meanLum = st.mean(luminosity)\n",
    "deviationLum = st.stdev(luminosity)\n",
    "meanTemp = st.mean(temps)\n",
    "deviationTemp = st.stdev(temps)\n",
    "\n",
    "print(f'Answer A: The Magnitude Mean is {meanLum} and Temp mean is {meanTemp} \\nThe Standard deviation for Magnitude is {deviationLum} and for Temps is {deviationTemp}\\n')\n",
    "\n",
    "    \n",
    "# print(temps, \"\\n\" ,luminosity)\n",
    "\n",
    "numTemps = len(temps)\n",
    "numLumin = len(luminosity)\n",
    "\n",
    "fig, axs = plt.subplots(1,3, figsize=(8,6), tight_layout=True)\n",
    "### Answer B: \n",
    "axs[0].hist(temps, numTemps, color='green')\n",
    "axs[0].set_title('Temperature vs Number Stars')\n",
    "axs[0].set_xlabel('Temperature')\n",
    "axs[0].set_ylabel('Number of Stars')\n",
    "\n",
    "\n",
    "axs[1].hist(luminosity, numLumin, color='red', edgecolor='blue')\n",
    "axs[1].set_title('Luminosity vs Number Stars')\n",
    "axs[1].set_xlabel('Magnitude')\n",
    "axs[1].set_ylabel('Number of Stars')\n",
    "\n",
    "\n",
    "### Answer B END\n",
    "\n",
    "axs[2].plot(luminosity, temps, label='Magnitude Vs. Temperature', color='purple')\n",
    "axs[2].set_title('Magnitude Vs. Temperature')\n",
    "axs[2].invert_xaxis()\n",
    "axs[2].invert_yaxis()\n",
    "axs[2].set_xlabel('Temperature (C)')\n",
    "axs[2].set_ylabel('Magnitude')\n",
    "\n",
    "\n",
    "\n",
    "# plt.plot(numLumin, numTemps, label='Historagram', color='red')\n",
    "plt.show()"
   ]
  },
  {
   "cell_type": "markdown",
   "metadata": {},
   "source": [
    "### Problem 5\n",
    "#### Answers: \n",
    "##### (a) See the Output\n",
    "##### (b) See the Output\n",
    "##### (c) See the Output"
   ]
  },
  {
   "cell_type": "code",
   "execution_count": 5,
   "metadata": {},
   "outputs": [
    {
     "name": "stdout",
     "output_type": "stream",
     "text": [
      "Answer a:\n",
      "\n",
      "pickup_year: 89560 many rows\n",
      "pickup_month: 89560 many rows\n",
      "pickup_day: 89560 many rows\n",
      "pickup_dayofweek: 89560 many rows\n",
      "pickup_time: 89560 many rows\n",
      "pickup_location_code: 89560 many rows\n",
      "dropoff_location_code: 89560 many rows\n",
      "trip_distance: 89560 many rows\n",
      "trip_length: 89560 many rows\n",
      "fare_amount: 89560 many rows\n",
      "fees_amount: 89560 many rows\n",
      "tolls_amount: 89560 many rows\n",
      "tip_amount: 89560 many rows\n",
      "total_amount: 89560 many rows\n",
      "payment_type: 89560 many rows\n",
      "\n",
      "Answer b: \n",
      "\n",
      "The average distance is 12.667426083072801 and length is 2235.981107637338\n",
      "The standard deviation distance is 5.167847640052277 and length is 3238.775577125174\n",
      "\n",
      "Answer c: \n",
      "\n",
      "The average payment is $48.966662460920055\n"
     ]
    }
   ],
   "source": [
    "import numpy as np  \n",
    "import statistics as st\n",
    "\n",
    "headers = np.loadtxt('nyc_taxis.txt', str, max_rows=1)\n",
    "data = np.loadtxt('nyc_taxis.txt', float, skiprows=1)\n",
    "\n",
    "# print(headers)\n",
    "\n",
    "price = len(data)\n",
    "\n",
    "row_counts = {}\n",
    "\n",
    "for i in range(len(headers)):\n",
    "    header = headers[i]\n",
    "    count = 0\n",
    "    \n",
    "    for row in data:\n",
    "        if row[i] != '':\n",
    "            count+=1\n",
    "            \n",
    "    row_counts[header] = count\n",
    "\n",
    "print(\"Answer a:\\n\")\n",
    "for header in headers:\n",
    "    print(f\"{header}: {row_counts[header]} many rows\")\n",
    "    \n",
    "trip_distance = data[:,7]\n",
    "trip_length = data[:,8]\n",
    "\n",
    "averagedistance = st.mean(trip_distance)\n",
    "averagelength = st.mean(trip_length)\n",
    "stdevdistance = st.stdev(trip_distance)\n",
    "stdevlength = st.stdev(trip_length)\n",
    "\n",
    "print(\"\\nAnswer b: \\n\")\n",
    "print(f'The average distance is {averagedistance} and length is {averagelength}\\nThe standard deviation distance is {stdevdistance} and length is {stdevlength}')\n",
    "\n",
    "payment = data[:,13]\n",
    "\n",
    "averagepayment = st.mean(payment)\n",
    "\n",
    "print(\"\\nAnswer c: \\n\")\n",
    "print(f\"The average payment is ${averagepayment}\")\n"
   ]
  },
  {
   "cell_type": "markdown",
   "metadata": {},
   "source": [
    "### Problem 6\n",
    "#### Answers:"
   ]
  },
  {
   "cell_type": "code",
   "execution_count": 6,
   "metadata": {},
   "outputs": [
    {
     "data": {
      "text/plain": [
       "'temp-plot.html'"
      ]
     },
     "execution_count": 6,
     "metadata": {},
     "output_type": "execute_result"
    },
    {
     "name": "stderr",
     "output_type": "stream",
     "text": [
      "gio: file:///home/jtedwards/Ubuntu_Code/Projects/comp_phys/temp-plot.html: Failed to find default application for content type ‘text/html’\n"
     ]
    }
   ],
   "source": [
    "from plotly.offline import plot\n",
    "import plotly.graph_objs as go \n",
    "\n",
    "locations_longitude = [-10.5405, -5.4778, -1.5111, 7.3422, 15.9677, 27.8128, 34.9701]\n",
    "locations_lattitude = [51.7707, 50.1172, 48.636, 45.0964, 41.7046, 36.6098, 32.8272]\n",
    "locationslabel = ['Skellig Michael IE', 'St. Michael\\'s Mount UK', 'Mount Saint Michel FR','Sacra di San Michele IT', 'Monte Sant\\' Angelo sul Gargano IT', 'Monastery of the Archangel Michael GR', 'Carmelite Monastery of Stella Maris IL']\n",
    "fig = go.Figure(\n",
    "    data=go.Scattergeo(\n",
    "        lat=locations_lattitude,\n",
    "        lon=locations_longitude,\n",
    "        mode = 'lines+markers+text',\n",
    "        marker= dict( symbol='star',size=10),\n",
    "        line = dict(width = 2, color = 'red'),\n",
    "        text=locationslabel,\n",
    "        textposition='top center'\n",
    "        ))\n",
    "\n",
    "fig.update_layout(\n",
    "    title_text = 'Sword of St. Michael',\n",
    "    showlegend = False,\n",
    "    geo = dict(\n",
    "        resolution = 50,\n",
    "        showland = True,\n",
    "        showlakes = True,\n",
    "        landcolor = 'green',\n",
    "        countrycolor = 'blue',\n",
    "        lakecolor = 'rgb(108, 227, 235)',\n",
    "        # projection_type = 'requirerectngular',\n",
    "        coastlinewidth = 2,\n",
    "    )\n",
    ")\n",
    "\n",
    "plot(fig)"
   ]
  }
 ],
 "metadata": {
  "kernelspec": {
   "display_name": "base",
   "language": "python",
   "name": "python3"
  },
  "language_info": {
   "codemirror_mode": {
    "name": "ipython",
    "version": 3
   },
   "file_extension": ".py",
   "mimetype": "text/x-python",
   "name": "python",
   "nbconvert_exporter": "python",
   "pygments_lexer": "ipython3",
   "version": "3.11.9"
  }
 },
 "nbformat": 4,
 "nbformat_minor": 2
}
