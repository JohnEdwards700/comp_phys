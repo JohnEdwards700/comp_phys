{
 "cells": [
  {
   "cell_type": "markdown",
   "id": "harmful-yorkshire",
   "metadata": {},
   "source": [
    "## Computational Physics Assignment 4\n",
    "*Do or do not... there is no try.*\n",
    "--Yoda in *Star Wars*\n"
   ]
  },
  {
   "cell_type": "markdown",
   "id": "durable-mozambique",
   "metadata": {},
   "source": [
    "1.  Download the data file CSIRO_Recons_gmsl_mo_2011.txt and fit a quadratic model ($A + Bx + Cx^2$) to the data and determine the uncertainties in the coefficients."
   ]
  },
  {
   "attachments": {},
   "cell_type": "markdown",
   "id": "invisible-kingston",
   "metadata": {},
   "source": [
    "2.\tIn this problem you explore using a non-linear least square fitting routine to fit the data shown in the figure below which is in the file spec.txt. The data, including the uncertainties in the y values, are provided in the table below. Your task is to fit the function\n",
    "\n",
    " $y(t) = A(1 + B cos(\\omega t))e^{-t^2/(2\\tau^2)} + C$\n",
    " to the data (given below), where the fitting parameters are A, B, C, $\\omega$ and $\\tau$.\n",
    "\n",
    "![image.png](attachment:image.png)\n",
    "\n",
    "(a)\tWrite a Python program that (i) reads the data in from data file spec.txt, (ii) defines a function func(t, A, B, C, tau, omega) for the function y(t) above, and (iii) produces a plot of the data and the function y(t). Choose the fitting parameters A, B, C, tau, and omega to produce an approximate fit “by eye” to the data. You should be able estimate reasonable values for these parameters just by looking at the data and thinking about the behavior of y(t). For example,    while . What parameter in y(t) controls the period of the peaks observed in the data? Use that information to estimate the value of that parameter.\n",
    "\n",
    "(b)\tWrite a program using the SciPy function scipy.optimize.curve_fit to fit the equation above to the data and thus find the optimal values of the fitting parameters A, B, C, tau, omega . Your program should plot the data along with the fitting function using the optimal values of the fitting parameters. Write a function to calculate the reduced $\\chi^2$. Print out the value of the  $\\chi^2$/dof along with the optimal values of the fitting parameters. You can use the results from part (a) to estimate good starting values of the fitting parameters.\n"
   ]
  },
  {
   "cell_type": "markdown",
   "id": "disciplinary-berry",
   "metadata": {},
   "source": [
    "3.A chemistry students wishes to know how fast her cappuccino will cool.  Write a Python program that utilized the Euler algorithm to solve Newton’s law of cooling,\n",
    "\n",
    "$\\frac{dT}{dt} = -r(T-T_s)$\n",
    "\n",
    " where T is the temperature and t the time.  The user should specify the initial temperature, the ambient temperature (Ts), and the duration of the cooling.  Take r = 0.026/min.  Create a graph for an initial temperature of 180.0 $^{\\circ}$F , and ambient temperature of 740$^{\\circ}$F , and a time period of 10 minutes.\n"
   ]
  },
  {
   "cell_type": "markdown",
   "id": "acceptable-trinidad",
   "metadata": {},
   "source": [
    "4.  Solve the following equation for x:  $9^x-6^x=4^x$."
   ]
  },
  {
   "cell_type": "markdown",
   "id": "palestinian-portal",
   "metadata": {},
   "source": [
    "5. Using the Newton-Raphson method, determine the root of the following equation within an error of 0.01: $f(x)=5x-3x^2+10sin(x) -2$.\n",
    "    "
   ]
  }
 ],
 "metadata": {
  "kernelspec": {
   "display_name": "Python 3",
   "language": "python",
   "name": "python3"
  },
  "language_info": {
   "codemirror_mode": {
    "name": "ipython",
    "version": 3
   },
   "file_extension": ".py",
   "mimetype": "text/x-python",
   "name": "python",
   "nbconvert_exporter": "python",
   "pygments_lexer": "ipython3",
   "version": "3.11.9"
  }
 },
 "nbformat": 4,
 "nbformat_minor": 5
}
