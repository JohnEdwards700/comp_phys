{
 "cells": [
  {
   "cell_type": "markdown",
   "id": "instrumental-blackjack",
   "metadata": {},
   "source": [
    "## Computational Physics Assignment 6\n",
    "*Both the man of science and the man of action live always at the edge of mystery, surrounded by it.* \n",
    "--J. Robert Oppenheimer\n"
   ]
  },
  {
   "cell_type": "markdown",
   "id": "dried-denver",
   "metadata": {},
   "source": [
    "1.\tWrite a Python program to predict the amount a pitched ball veers and falls on its way from the pitcher’s mound to the plate for various types of pitches. Use an initial velocity of 95 mph, an initial angle of 30, and a spin rate of 2500 rpm in your calculations. \n",
    "Complete the following chart based upon your calculations: \n",
    "|     Type   of Pitch    |     y (ft)    |     z (ft)    |\n",
    "|------------------------|---------------|---------------|\n",
    "|     Fastball           |               |               |\n",
    "|     Slider             |               |               |\n",
    "|     Curveball          |               |               |\n",
    "|     Screwball          |               |               |\n",
    "\n",
    "\n",
    "\n",
    "\n"
   ]
  },
  {
   "cell_type": "markdown",
   "id": "collect-springer",
   "metadata": {},
   "source": [
    "2.\tInvestigate the effect of backspin on the trajectory of a golf ball by adapting your baseball program. A dimpled golf ball has a constant drag coefficient CD = 0.3 and the air has a density of 1.2754 kg/m3. The radius of an American golf ball is 0.02135 m and its mass is 0.04593 kg. \n",
    "\n",
    "(a)\tDetermine the constant factor $k_D=\\frac{C_D \\rho A}{2m}$   which you will use in your program. Note that the drag coefficient now has no dependence on velocity; the drag force leads simply to the acceleration term  $\\frac{\\vec{F_D}}{m}=-k_D|\\vec{v}|\\vec{v}$  . \n",
    "\n",
    "(b)\tThe lift factor for a dimpled golf ball is $k_L=1.72\\times10^{-3}$.   For backspin, what should be the angle ϕ which is the angle between the spin direction and the vertical direction?\n",
    "\n",
    "(c)\tCompute the range (starting and ending at y = 0) for a golf ball with the following initial conditions and plot the trajectories on 3D graph: \n",
    "\n",
    "\n",
    "|     θ (0)    |     w    (rpm)    |     v0 (m/s)    |     Range   (m)    |\n",
    "|--------------|-------------------|-----------------|--------------------|\n",
    "|     8        |     3600          |     134         |                    |\n",
    "|     23       |     7200          |     105         |                    |"
   ]
  },
  {
   "cell_type": "code",
   "execution_count": null,
   "id": "compressed-horizontal",
   "metadata": {},
   "outputs": [],
   "source": []
  }
 ],
 "metadata": {
  "kernelspec": {
   "display_name": "Python 3",
   "language": "python",
   "name": "python3"
  },
  "language_info": {
   "codemirror_mode": {
    "name": "ipython",
    "version": 3
   },
   "file_extension": ".py",
   "mimetype": "text/x-python",
   "name": "python",
   "nbconvert_exporter": "python",
   "pygments_lexer": "ipython3",
   "version": "3.7.3"
  }
 },
 "nbformat": 4,
 "nbformat_minor": 5
}
