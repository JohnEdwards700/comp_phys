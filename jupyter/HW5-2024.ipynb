{
 "cells": [
  {
   "cell_type": "markdown",
   "id": "harmful-yorkshire",
   "metadata": {},
   "source": [
    "## Computational Physics Assignment 5\n",
    "*Do or do not... there is no try.*\n",
    "--Yoda in *Star Wars*\n"
   ]
  },
  {
   "cell_type": "markdown",
   "id": "279ad2cb",
   "metadata": {},
   "source": [
    "1.  A whiffle ball is dropped from the UD Tower, a height of 57 m above the landscaped ground.  Using  Heun’s method  and assuming a terminal velocity of 10 m/s determine \n",
    "a. the speed of the whiffle ball at any instant while it is falling,\n",
    "b. the time to reach the ground,\n",
    "c. the time to reach the ground in the absence of air resistance."
   ]
  },
  {
   "cell_type": "markdown",
   "id": "67a7425e",
   "metadata": {},
   "source": [
    "2.  Help Dak Prescott keep his position as quarterback for the Dallas Cowboys. Prescott offers you a lucrative consulting fee to determine the optimum angle of launch for a pass. He can throw the ball with an initial speed of 35 m/s. Write a Python program that uses the Heun algorithm to solve the equations of motion assuming quadratic air resistance. The terminal velocity of a football is 45 m/s. Plot the range as a function of the angle. Answer the following questions: \n",
    "(a) At what launch angle (to the nearest ½o, he is very accurate, you know) should he throw the ball for the greatest range in air? \n",
    "(b) Any capable quarterback can throw a football up to 80 yards; do your results agree with this observation?"
   ]
  }
 ],
 "metadata": {
  "kernelspec": {
   "display_name": "Python 3 (ipykernel)",
   "language": "python",
   "name": "python3"
  },
  "language_info": {
   "codemirror_mode": {
    "name": "ipython",
    "version": 3
   },
   "file_extension": ".py",
   "mimetype": "text/x-python",
   "name": "python",
   "nbconvert_exporter": "python",
   "pygments_lexer": "ipython3",
   "version": "3.11.4"
  }
 },
 "nbformat": 4,
 "nbformat_minor": 5
}
