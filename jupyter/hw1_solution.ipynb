{
 "cells": [
  {
   "cell_type": "code",
   "execution_count": 5,
   "metadata": {},
   "outputs": [
    {
     "name": "stdout",
     "output_type": "stream",
     "text": [
      "Where are you from? ghana\n"
     ]
    }
   ],
   "source": [
    "countryDict = {\n",
    "\"ghana\": \"Good Food\",\n",
    "\"england\": \"Lost to USA\",\n",
    "\"australia\": \"Country and a Continent\"\n",
    "}\n",
    "\n",
    "def countryfact(name):\n",
    "    if name in countryDict:\n",
    "        print(countryDict[name])\n",
    "        \n",
    "user_input = input(\"Where are you from? \")    \n",
    "countryfact(user_input)"
   ]
  },
  {
   "cell_type": "code",
   "execution_count": 1,
   "metadata": {},
   "outputs": [
    {
     "name": "stdout",
     "output_type": "stream",
     "text": [
      "give me three numbers 3 4 5\n"
     ]
    },
    {
     "name": "stdout",
     "output_type": "stream",
     "text": [
      "5 3\n"
     ]
    }
   ],
   "source": [
    "def checkNums(numarray):\n",
    "    largest = max(numarray)\n",
    "    smallest = min(numarray)\n",
    "    print(largest, smallest)\n",
    "    \n",
    "user_input = input(\"give me three numbers\")\n",
    "nums = list(map(int, user_input.split()))\n",
    "checkNums(nums)\n",
    "\n",
    "        "
   ]
  },
  {
   "cell_type": "code",
   "execution_count": 9,
   "metadata": {},
   "outputs": [
    {
     "name": "stdout",
     "output_type": "stream",
     "text": [
      "What is the speed mph? 4\n",
      "How many hours has it traveled? 6\n"
     ]
    },
    {
     "name": "stdout",
     "output_type": "stream",
     "text": [
      "1 4\n",
      "2 8\n",
      "3 12\n",
      "4 16\n",
      "5 20\n",
      "6 24\n"
     ]
    }
   ],
   "source": [
    "def distance(speed, time):\n",
    "    for i in range(1, time):\n",
    "        print(i, i*speed)\n",
    "    print(time,speed * time)\n",
    "\n",
    "speed =  int(input(\"What is the speed mph?\"))\n",
    "time =  int(input(\"How many hours has it traveled?\"))\n",
    "distance(speed, time)"
   ]
  },
  {
   "cell_type": "code",
   "execution_count": 3,
   "metadata": {},
   "outputs": [
    {
     "name": "stdout",
     "output_type": "stream",
     "text": [
      "Input a Number: \n",
      " 4\n"
     ]
    },
    {
     "name": "stdout",
     "output_type": "stream",
     "text": [
      "__________\n",
      "__________\n",
      "space\n",
      "space\n",
      "__________\n",
      "space\n",
      "space\n",
      "space\n",
      "space\n",
      "__________\n",
      "space\n",
      "space\n",
      "space\n",
      "space\n",
      "space\n",
      "space\n"
     ]
    }
   ],
   "source": [
    "user_input = int(input(\"Input a Number: \\n\"))\n",
    "def printspaces(num):\n",
    "    for i in range(num):\n",
    "        print(\"__________\")\n",
    "        for x in range(i*2):\n",
    "            print(\"space\")\n",
    "\n",
    "printspaces(user_input)"
   ]
  },
  {
   "cell_type": "code",
   "execution_count": 7,
   "metadata": {},
   "outputs": [
    {
     "name": "stdout",
     "output_type": "stream",
     "text": [
      "degrees or radians? (d/r) d\n",
      "give me some degree 30\n"
     ]
    },
    {
     "name": "stdout",
     "output_type": "stream",
     "text": [
      "sin approximation is:  0.49999999999999994\n"
     ]
    }
   ],
   "source": [
    "import math\n",
    "\n",
    "def equation(x, y):\n",
    "    sineVal = 0\n",
    "    for i in range(y):\n",
    "        y = ((-1)**i * (x**(2*i+1)) / math.factorial(2*i + 1))\n",
    "        sineVal += y\n",
    "    return sineVal\n",
    "\n",
    "user_input = input(\"degrees or radians? (d/r)\")\n",
    "if user_input == \"r\":\n",
    "    user_input = (input(\"give me some radian\"))\n",
    "elif user_input == \"d\":\n",
    "    user_input = float(input(\"give me some degree\"))\n",
    "    user_input = math.radians(user_input)\n",
    "\n",
    "sinAprox = equation(float(user_input), 10)\n",
    "print(\"sin approximation is: \", sinAprox)"
   ]
  },
  {
   "cell_type": "code",
   "execution_count": null,
   "metadata": {},
   "outputs": [],
   "source": []
  }
 ],
 "metadata": {
  "kernelspec": {
   "display_name": "Python 3 (ipykernel)",
   "language": "python",
   "name": "python3"
  },
  "language_info": {
   "codemirror_mode": {
    "name": "ipython",
    "version": 3
   },
   "file_extension": ".py",
   "mimetype": "text/x-python",
   "name": "python",
   "nbconvert_exporter": "python",
   "pygments_lexer": "ipython3",
   "version": "3.12.4"
  }
 },
 "nbformat": 4,
 "nbformat_minor": 4
}
